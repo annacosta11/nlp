{
  "nbformat": 4,
  "nbformat_minor": 0,
  "metadata": {
    "colab": {
      "provenance": [],
      "authorship_tag": "ABX9TyP+/TJdizlJIYTolj1p19R1",
      "include_colab_link": true
    },
    "kernelspec": {
      "name": "python3",
      "display_name": "Python 3"
    },
    "language_info": {
      "name": "python"
    }
  },
  "cells": [
    {
      "cell_type": "markdown",
      "metadata": {
        "id": "view-in-github",
        "colab_type": "text"
      },
      "source": [
        "<a href=\"https://colab.research.google.com/github/annacosta11/nlp/blob/main/Copy_of_NLP_buona.ipynb\" target=\"_parent\"><img src=\"https://colab.research.google.com/assets/colab-badge.svg\" alt=\"Open In Colab\"/></a>"
      ]
    },
    {
      "cell_type": "code",
      "source": [
        "pip install bs4"
      ],
      "metadata": {
        "colab": {
          "base_uri": "https://localhost:8080/"
        },
        "id": "J89U7FX3RoPW",
        "outputId": "93640b3b-5d65-4cbf-84b8-b8276a8b2f9e"
      },
      "execution_count": null,
      "outputs": [
        {
          "output_type": "stream",
          "name": "stdout",
          "text": [
            "Collecting bs4\n",
            "  Downloading bs4-0.0.2-py2.py3-none-any.whl (1.2 kB)\n",
            "Requirement already satisfied: beautifulsoup4 in /usr/local/lib/python3.10/dist-packages (from bs4) (4.12.3)\n",
            "Requirement already satisfied: soupsieve>1.2 in /usr/local/lib/python3.10/dist-packages (from beautifulsoup4->bs4) (2.5)\n",
            "Installing collected packages: bs4\n",
            "Successfully installed bs4-0.0.2\n"
          ]
        }
      ]
    },
    {
      "cell_type": "code",
      "source": [
        "pip install pypdf"
      ],
      "metadata": {
        "colab": {
          "base_uri": "https://localhost:8080/"
        },
        "id": "Ar4BFM9KDYjy",
        "outputId": "cc6fbc55-3d08-495b-a025-5cf64f926586"
      },
      "execution_count": null,
      "outputs": [
        {
          "output_type": "stream",
          "name": "stdout",
          "text": [
            "Requirement already satisfied: pypdf in /usr/local/lib/python3.10/dist-packages (4.2.0)\n",
            "Requirement already satisfied: typing_extensions>=4.0 in /usr/local/lib/python3.10/dist-packages (from pypdf) (4.12.2)\n"
          ]
        }
      ]
    },
    {
      "cell_type": "code",
      "source": [
        "import requests\n",
        "import re\n",
        "from bs4 import BeautifulSoup\n",
        "import os\n",
        "from pypdf import PdfReader\n",
        "from pypdf.errors import PdfReadError\n",
        "\n",
        "base_url = 'https://www.nature.com'\n",
        "download_directory = 'downloaded_articles'\n",
        "if not os.path.exists(download_directory):\n",
        "    os.makedirs(download_directory)\n",
        "\n",
        "i=538\n",
        "for j in range(20, 25):\n",
        "\n",
        "  url = 'https://www.nature.com/search?q=climate+change&order=relevance&article_type=research&page=' + str(j)\n",
        "\n",
        "\n",
        "  reqs = requests.get(url)\n",
        "  soup = BeautifulSoup(reqs.text, 'html.parser')\n",
        "\n",
        "  soup.findAll('a', attrs={'href': re.compile(\"^http://\")})\n",
        "\n",
        "  article_links = []\n",
        "  urls = []\n",
        "\n",
        "  for link in soup.find_all('a', attrs={'href': re.compile(\"^/article\")}):\n",
        "      article_links.append(base_url + link.get('href') + '.pdf')\n",
        "\n",
        "  print(article_links)\n",
        "\n",
        "  def is_valid_pdf(pdf_path):\n",
        "      try:\n",
        "          reader = PdfReader(pdf_path)\n",
        "          return True\n",
        "      except Exception as e:\n",
        "          print(f\"Unexpected error with {pdf_path}: {e}\")\n",
        "          return False\n",
        "\n",
        "  def saves_pdf(url, i):\n",
        "      response = requests.get(url)\n",
        "\n",
        "      # Save the PDF locally\n",
        "      pdf_filename = \"downloaded_article_\" + str(i) + \".pdf\"\n",
        "      pdf_filename = os.path.join(download_directory, pdf_filename)\n",
        "\n",
        "      with open(pdf_filename, 'wb') as pdf_file:\n",
        "          pdf_file.write(response.content)\n",
        "      return pdf_filename\n",
        "\n",
        "  for article in article_links:\n",
        "      pdf = saves_pdf(article, i)\n",
        "      i = i + 1\n",
        "      if is_valid_pdf(pdf):\n",
        "          print(f\"Valid PDF: {pdf}\")\n",
        "      else:\n",
        "          os.remove(pdf)\n",
        "          i = i-1\n",
        "          print(f\"Invalid PDF, deleting: {pdf}\")\n"
      ],
      "metadata": {
        "colab": {
          "base_uri": "https://localhost:8080/"
        },
        "id": "Uh5LSPqFSnzQ",
        "outputId": "18910abf-04e6-470e-94ac-131d14fa0887"
      },
      "execution_count": null,
      "outputs": [
        {
          "output_type": "stream",
          "name": "stdout",
          "text": [
            "['https://www.nature.com/articles/s41893-023-01133-5.pdf', 'https://www.nature.com/articles/s41598-024-55930-9.pdf', 'https://www.nature.com/articles/s41598-024-56160-9.pdf', 'https://www.nature.com/articles/s44168-024-00102-8.pdf', 'https://www.nature.com/articles/srep29777.pdf', 'https://www.nature.com/articles/nclimate2086.pdf', 'https://www.nature.com/articles/s41893-023-01198-2.pdf', 'https://www.nature.com/articles/s41467-021-22392-w.pdf', 'https://www.nature.com/articles/nclimate2457.pdf', 'https://www.nature.com/articles/s41467-023-37165-w.pdf', 'https://www.nature.com/articles/nclimate1413.pdf', 'https://www.nature.com/articles/nclimate1169.pdf', 'https://www.nature.com/articles/s41467-022-31426-w.pdf', 'https://www.nature.com/articles/s41558-020-0773-5.pdf', 'https://www.nature.com/articles/nclimate3249.pdf', 'https://www.nature.com/articles/ncomms4723.pdf', 'https://www.nature.com/articles/s41558-021-01255-8.pdf', 'https://www.nature.com/articles/nclimate3336.pdf', 'https://www.nature.com/articles/s41558-018-0149-2.pdf', 'https://www.nature.com/articles/nclimate3273.pdf', 'https://www.nature.com/articles/s41558-020-0739-7.pdf', 'https://www.nature.com/articles/s41558-019-0417-9.pdf', 'https://www.nature.com/articles/nclimate3146.pdf', 'https://www.nature.com/articles/s41467-024-47369-3.pdf', 'https://www.nature.com/articles/s41586-022-04881-0.pdf', 'https://www.nature.com/articles/s41893-020-00666-3.pdf', 'https://www.nature.com/articles/s41558-022-01454-x.pdf', 'https://www.nature.com/articles/s44168-024-00108-2.pdf', 'https://www.nature.com/articles/s41467-024-47769-5.pdf', 'https://www.nature.com/articles/s41598-023-50688-y.pdf', 'https://www.nature.com/articles/nclimate2774.pdf', 'https://www.nature.com/articles/s41467-024-47143-5.pdf', 'https://www.nature.com/articles/s41467-024-49176-2.pdf', 'https://www.nature.com/articles/s41467-024-48886-x.pdf', 'https://www.nature.com/articles/s41558-020-0840-y.pdf', 'https://www.nature.com/articles/s41467-023-36129-4.pdf', 'https://www.nature.com/articles/s41559-023-02007-x.pdf', 'https://www.nature.com/articles/s41558-021-01125-3.pdf', 'https://www.nature.com/articles/s41561-023-01259-3.pdf', 'https://www.nature.com/articles/s41467-021-23547-5.pdf', 'https://www.nature.com/articles/s41467-024-49333-7.pdf', 'https://www.nature.com/articles/s41598-024-55176-5.pdf', 'https://www.nature.com/articles/s41467-022-34206-8.pdf', 'https://www.nature.com/articles/s41561-022-01041-x.pdf', 'https://www.nature.com/articles/s41558-021-01168-6.pdf', 'https://www.nature.com/articles/s41467-019-08913-8.pdf', 'https://www.nature.com/articles/s43016-021-00335-4.pdf', 'https://www.nature.com/articles/s41467-022-34944-9.pdf', 'https://www.nature.com/articles/s41598-024-52340-9.pdf', 'https://www.nature.com/articles/s41599-024-02847-3.pdf']\n"
          ]
        },
        {
          "output_type": "stream",
          "name": "stderr",
          "text": [
            "WARNING:pypdf._reader:invalid pdf header: b'<!DOC'\n",
            "WARNING:pypdf._reader:EOF marker not found\n"
          ]
        },
        {
          "output_type": "stream",
          "name": "stdout",
          "text": [
            "Unexpected error with downloaded_articles/downloaded_article_538.pdf: Stream has ended unexpectedly\n",
            "Invalid PDF, deleting: downloaded_articles/downloaded_article_538.pdf\n",
            "Valid PDF: downloaded_articles/downloaded_article_538.pdf\n",
            "Valid PDF: downloaded_articles/downloaded_article_539.pdf\n",
            "Valid PDF: downloaded_articles/downloaded_article_540.pdf\n",
            "Valid PDF: downloaded_articles/downloaded_article_541.pdf\n"
          ]
        },
        {
          "output_type": "stream",
          "name": "stderr",
          "text": [
            "WARNING:pypdf._reader:invalid pdf header: b'<!DOC'\n",
            "WARNING:pypdf._reader:EOF marker not found\n"
          ]
        },
        {
          "output_type": "stream",
          "name": "stdout",
          "text": [
            "Unexpected error with downloaded_articles/downloaded_article_542.pdf: Stream has ended unexpectedly\n",
            "Invalid PDF, deleting: downloaded_articles/downloaded_article_542.pdf\n"
          ]
        },
        {
          "output_type": "stream",
          "name": "stderr",
          "text": [
            "WARNING:pypdf._reader:invalid pdf header: b'<!DOC'\n",
            "WARNING:pypdf._reader:EOF marker not found\n"
          ]
        },
        {
          "output_type": "stream",
          "name": "stdout",
          "text": [
            "Unexpected error with downloaded_articles/downloaded_article_542.pdf: Stream has ended unexpectedly\n",
            "Invalid PDF, deleting: downloaded_articles/downloaded_article_542.pdf\n",
            "Valid PDF: downloaded_articles/downloaded_article_542.pdf\n"
          ]
        },
        {
          "output_type": "stream",
          "name": "stderr",
          "text": [
            "WARNING:pypdf._reader:invalid pdf header: b'<!DOC'\n",
            "WARNING:pypdf._reader:EOF marker not found\n"
          ]
        },
        {
          "output_type": "stream",
          "name": "stdout",
          "text": [
            "Unexpected error with downloaded_articles/downloaded_article_543.pdf: Stream has ended unexpectedly\n",
            "Invalid PDF, deleting: downloaded_articles/downloaded_article_543.pdf\n",
            "Valid PDF: downloaded_articles/downloaded_article_543.pdf\n"
          ]
        },
        {
          "output_type": "stream",
          "name": "stderr",
          "text": [
            "WARNING:pypdf._reader:invalid pdf header: b'<!DOC'\n",
            "WARNING:pypdf._reader:EOF marker not found\n"
          ]
        },
        {
          "output_type": "stream",
          "name": "stdout",
          "text": [
            "Unexpected error with downloaded_articles/downloaded_article_544.pdf: Stream has ended unexpectedly\n",
            "Invalid PDF, deleting: downloaded_articles/downloaded_article_544.pdf\n"
          ]
        },
        {
          "output_type": "stream",
          "name": "stderr",
          "text": [
            "WARNING:pypdf._reader:invalid pdf header: b'<!DOC'\n",
            "WARNING:pypdf._reader:EOF marker not found\n"
          ]
        },
        {
          "output_type": "stream",
          "name": "stdout",
          "text": [
            "Unexpected error with downloaded_articles/downloaded_article_544.pdf: Stream has ended unexpectedly\n",
            "Invalid PDF, deleting: downloaded_articles/downloaded_article_544.pdf\n",
            "Valid PDF: downloaded_articles/downloaded_article_544.pdf\n"
          ]
        },
        {
          "output_type": "stream",
          "name": "stderr",
          "text": [
            "WARNING:pypdf._reader:invalid pdf header: b'<!DOC'\n",
            "WARNING:pypdf._reader:EOF marker not found\n"
          ]
        },
        {
          "output_type": "stream",
          "name": "stdout",
          "text": [
            "Unexpected error with downloaded_articles/downloaded_article_545.pdf: Stream has ended unexpectedly\n",
            "Invalid PDF, deleting: downloaded_articles/downloaded_article_545.pdf\n"
          ]
        },
        {
          "output_type": "stream",
          "name": "stderr",
          "text": [
            "WARNING:pypdf._reader:invalid pdf header: b'<!DOC'\n",
            "WARNING:pypdf._reader:EOF marker not found\n"
          ]
        },
        {
          "output_type": "stream",
          "name": "stdout",
          "text": [
            "Unexpected error with downloaded_articles/downloaded_article_545.pdf: Stream has ended unexpectedly\n",
            "Invalid PDF, deleting: downloaded_articles/downloaded_article_545.pdf\n",
            "Valid PDF: downloaded_articles/downloaded_article_545.pdf\n",
            "Valid PDF: downloaded_articles/downloaded_article_546.pdf\n"
          ]
        },
        {
          "output_type": "stream",
          "name": "stderr",
          "text": [
            "WARNING:pypdf._reader:invalid pdf header: b'<!DOC'\n",
            "WARNING:pypdf._reader:EOF marker not found\n"
          ]
        },
        {
          "output_type": "stream",
          "name": "stdout",
          "text": [
            "Unexpected error with downloaded_articles/downloaded_article_547.pdf: Stream has ended unexpectedly\n",
            "Invalid PDF, deleting: downloaded_articles/downloaded_article_547.pdf\n"
          ]
        },
        {
          "output_type": "stream",
          "name": "stderr",
          "text": [
            "WARNING:pypdf._reader:invalid pdf header: b'<!DOC'\n",
            "WARNING:pypdf._reader:EOF marker not found\n"
          ]
        },
        {
          "output_type": "stream",
          "name": "stdout",
          "text": [
            "Unexpected error with downloaded_articles/downloaded_article_547.pdf: Stream has ended unexpectedly\n",
            "Invalid PDF, deleting: downloaded_articles/downloaded_article_547.pdf\n"
          ]
        },
        {
          "output_type": "stream",
          "name": "stderr",
          "text": [
            "WARNING:pypdf._reader:invalid pdf header: b'<!DOC'\n",
            "WARNING:pypdf._reader:EOF marker not found\n"
          ]
        },
        {
          "output_type": "stream",
          "name": "stdout",
          "text": [
            "Unexpected error with downloaded_articles/downloaded_article_547.pdf: Stream has ended unexpectedly\n",
            "Invalid PDF, deleting: downloaded_articles/downloaded_article_547.pdf\n"
          ]
        },
        {
          "output_type": "stream",
          "name": "stderr",
          "text": [
            "WARNING:pypdf._reader:invalid pdf header: b'<!DOC'\n",
            "WARNING:pypdf._reader:EOF marker not found\n"
          ]
        },
        {
          "output_type": "stream",
          "name": "stdout",
          "text": [
            "Unexpected error with downloaded_articles/downloaded_article_547.pdf: Stream has ended unexpectedly\n",
            "Invalid PDF, deleting: downloaded_articles/downloaded_article_547.pdf\n"
          ]
        },
        {
          "output_type": "stream",
          "name": "stderr",
          "text": [
            "WARNING:pypdf._reader:invalid pdf header: b'<!DOC'\n",
            "WARNING:pypdf._reader:EOF marker not found\n"
          ]
        },
        {
          "output_type": "stream",
          "name": "stdout",
          "text": [
            "Unexpected error with downloaded_articles/downloaded_article_547.pdf: Stream has ended unexpectedly\n",
            "Invalid PDF, deleting: downloaded_articles/downloaded_article_547.pdf\n"
          ]
        },
        {
          "output_type": "stream",
          "name": "stderr",
          "text": [
            "WARNING:pypdf._reader:invalid pdf header: b'<!DOC'\n",
            "WARNING:pypdf._reader:EOF marker not found\n"
          ]
        },
        {
          "output_type": "stream",
          "name": "stdout",
          "text": [
            "Unexpected error with downloaded_articles/downloaded_article_547.pdf: Stream has ended unexpectedly\n",
            "Invalid PDF, deleting: downloaded_articles/downloaded_article_547.pdf\n",
            "Valid PDF: downloaded_articles/downloaded_article_547.pdf\n"
          ]
        },
        {
          "output_type": "stream",
          "name": "stderr",
          "text": [
            "WARNING:pypdf._reader:invalid pdf header: b'<!DOC'\n",
            "WARNING:pypdf._reader:EOF marker not found\n"
          ]
        },
        {
          "output_type": "stream",
          "name": "stdout",
          "text": [
            "Unexpected error with downloaded_articles/downloaded_article_548.pdf: Stream has ended unexpectedly\n",
            "Invalid PDF, deleting: downloaded_articles/downloaded_article_548.pdf\n"
          ]
        },
        {
          "output_type": "stream",
          "name": "stderr",
          "text": [
            "WARNING:pypdf._reader:invalid pdf header: b'<!DOC'\n",
            "WARNING:pypdf._reader:EOF marker not found\n"
          ]
        },
        {
          "output_type": "stream",
          "name": "stdout",
          "text": [
            "Unexpected error with downloaded_articles/downloaded_article_548.pdf: Stream has ended unexpectedly\n",
            "Invalid PDF, deleting: downloaded_articles/downloaded_article_548.pdf\n",
            "Valid PDF: downloaded_articles/downloaded_article_548.pdf\n",
            "Valid PDF: downloaded_articles/downloaded_article_549.pdf\n",
            "Valid PDF: downloaded_articles/downloaded_article_550.pdf\n",
            "Valid PDF: downloaded_articles/downloaded_article_551.pdf\n"
          ]
        },
        {
          "output_type": "stream",
          "name": "stderr",
          "text": [
            "WARNING:pypdf._reader:invalid pdf header: b'<!DOC'\n",
            "WARNING:pypdf._reader:EOF marker not found\n"
          ]
        },
        {
          "output_type": "stream",
          "name": "stdout",
          "text": [
            "Unexpected error with downloaded_articles/downloaded_article_552.pdf: Stream has ended unexpectedly\n",
            "Invalid PDF, deleting: downloaded_articles/downloaded_article_552.pdf\n",
            "Valid PDF: downloaded_articles/downloaded_article_552.pdf\n",
            "Valid PDF: downloaded_articles/downloaded_article_553.pdf\n",
            "Valid PDF: downloaded_articles/downloaded_article_554.pdf\n"
          ]
        },
        {
          "output_type": "stream",
          "name": "stderr",
          "text": [
            "WARNING:pypdf._reader:invalid pdf header: b'<!DOC'\n",
            "WARNING:pypdf._reader:EOF marker not found\n"
          ]
        },
        {
          "output_type": "stream",
          "name": "stdout",
          "text": [
            "Unexpected error with downloaded_articles/downloaded_article_555.pdf: Stream has ended unexpectedly\n",
            "Invalid PDF, deleting: downloaded_articles/downloaded_article_555.pdf\n",
            "Valid PDF: downloaded_articles/downloaded_article_555.pdf\n"
          ]
        },
        {
          "output_type": "stream",
          "name": "stderr",
          "text": [
            "WARNING:pypdf._reader:invalid pdf header: b'<!DOC'\n",
            "WARNING:pypdf._reader:EOF marker not found\n"
          ]
        },
        {
          "output_type": "stream",
          "name": "stdout",
          "text": [
            "Unexpected error with downloaded_articles/downloaded_article_556.pdf: Stream has ended unexpectedly\n",
            "Invalid PDF, deleting: downloaded_articles/downloaded_article_556.pdf\n"
          ]
        },
        {
          "output_type": "stream",
          "name": "stderr",
          "text": [
            "WARNING:pypdf._reader:invalid pdf header: b'<!DOC'\n",
            "WARNING:pypdf._reader:EOF marker not found\n"
          ]
        },
        {
          "output_type": "stream",
          "name": "stdout",
          "text": [
            "Unexpected error with downloaded_articles/downloaded_article_556.pdf: Stream has ended unexpectedly\n",
            "Invalid PDF, deleting: downloaded_articles/downloaded_article_556.pdf\n",
            "Valid PDF: downloaded_articles/downloaded_article_556.pdf\n",
            "Valid PDF: downloaded_articles/downloaded_article_557.pdf\n",
            "Valid PDF: downloaded_articles/downloaded_article_558.pdf\n",
            "Valid PDF: downloaded_articles/downloaded_article_559.pdf\n",
            "Valid PDF: downloaded_articles/downloaded_article_560.pdf\n"
          ]
        },
        {
          "output_type": "stream",
          "name": "stderr",
          "text": [
            "WARNING:pypdf._reader:invalid pdf header: b'<!DOC'\n",
            "WARNING:pypdf._reader:EOF marker not found\n"
          ]
        },
        {
          "output_type": "stream",
          "name": "stdout",
          "text": [
            "Unexpected error with downloaded_articles/downloaded_article_561.pdf: Stream has ended unexpectedly\n",
            "Invalid PDF, deleting: downloaded_articles/downloaded_article_561.pdf\n"
          ]
        },
        {
          "output_type": "stream",
          "name": "stderr",
          "text": [
            "WARNING:pypdf._reader:invalid pdf header: b'<!DOC'\n",
            "WARNING:pypdf._reader:EOF marker not found\n"
          ]
        },
        {
          "output_type": "stream",
          "name": "stdout",
          "text": [
            "Unexpected error with downloaded_articles/downloaded_article_561.pdf: Stream has ended unexpectedly\n",
            "Invalid PDF, deleting: downloaded_articles/downloaded_article_561.pdf\n",
            "Valid PDF: downloaded_articles/downloaded_article_561.pdf\n"
          ]
        },
        {
          "output_type": "stream",
          "name": "stderr",
          "text": [
            "WARNING:pypdf._reader:invalid pdf header: b'<!DOC'\n",
            "WARNING:pypdf._reader:EOF marker not found\n"
          ]
        },
        {
          "output_type": "stream",
          "name": "stdout",
          "text": [
            "Unexpected error with downloaded_articles/downloaded_article_562.pdf: Stream has ended unexpectedly\n",
            "Invalid PDF, deleting: downloaded_articles/downloaded_article_562.pdf\n",
            "Valid PDF: downloaded_articles/downloaded_article_562.pdf\n",
            "Valid PDF: downloaded_articles/downloaded_article_563.pdf\n",
            "Valid PDF: downloaded_articles/downloaded_article_564.pdf\n",
            "[]\n",
            "[]\n",
            "[]\n",
            "[]\n"
          ]
        }
      ]
    },
    {
      "cell_type": "code",
      "source": [
        "from pypdf import PdfMerger\n",
        "\n",
        "merger = PdfMerger()\n",
        "\n",
        "for filename in os.listdir(download_directory):\n",
        "    if filename.endswith('.pdf'):\n",
        "        filepath = os.path.join(download_directory, filename)\n",
        "        merger.append(filepath)\n",
        "        print(f\"Added {filepath} to the merger.\")\n",
        "\n",
        "# Output path for the merged PDF\n",
        "output_path = os.path.join(download_directory, 'merged_document.pdf')\n",
        "\n",
        "# Write out the merged PDF\n",
        "merger.write(output_path)\n",
        "merger.close()\n"
      ],
      "metadata": {
        "colab": {
          "base_uri": "https://localhost:8080/"
        },
        "id": "53GCHOMdeQq4",
        "outputId": "fcfc0cd8-7454-4453-d151-ab6c972cdbb3"
      },
      "execution_count": null,
      "outputs": [
        {
          "output_type": "stream",
          "name": "stderr",
          "text": [
            "<ipython-input-10-1ddac5cd54ad>:3: DeprecationWarning: PdfMerger is deprecated and will be removed in pypdf 5.0.0. Use PdfWriter instead.\n",
            "  merger = PdfMerger()\n"
          ]
        },
        {
          "output_type": "stream",
          "name": "stdout",
          "text": [
            "Added downloaded_articles/downloaded_article_397.pdf to the merger.\n",
            "Added downloaded_articles/downloaded_article_343.pdf to the merger.\n",
            "Added downloaded_articles/downloaded_article_477.pdf to the merger.\n",
            "Added downloaded_articles/downloaded_article_482.pdf to the merger.\n",
            "Added downloaded_articles/downloaded_article_371.pdf to the merger.\n",
            "Added downloaded_articles/downloaded_article_552.pdf to the merger.\n",
            "Added downloaded_articles/downloaded_article_277.pdf to the merger.\n",
            "Added downloaded_articles/downloaded_article_362.pdf to the merger.\n",
            "Added downloaded_articles/downloaded_article_292.pdf to the merger.\n",
            "Added downloaded_articles/downloaded_article_502.pdf to the merger.\n",
            "Added downloaded_articles/downloaded_article_330.pdf to the merger.\n",
            "Added downloaded_articles/downloaded_article_200.pdf to the merger.\n",
            "Added downloaded_articles/downloaded_article_79.pdf to the merger.\n",
            "Added downloaded_articles/downloaded_article_377.pdf to the merger.\n",
            "Added downloaded_articles/downloaded_article_299.pdf to the merger.\n",
            "Added downloaded_articles/downloaded_article_494.pdf to the merger.\n",
            "Added downloaded_articles/downloaded_article_199.pdf to the merger.\n",
            "Added downloaded_articles/downloaded_article_283.pdf to the merger.\n",
            "Added downloaded_articles/downloaded_article_322.pdf to the merger.\n",
            "Added downloaded_articles/downloaded_article_64.pdf to the merger.\n",
            "Added downloaded_articles/downloaded_article_227.pdf to the merger.\n",
            "Added downloaded_articles/downloaded_article_59.pdf to the merger.\n",
            "Added downloaded_articles/downloaded_article_480.pdf to the merger.\n",
            "Added downloaded_articles/downloaded_article_252.pdf to the merger.\n",
            "Added downloaded_articles/downloaded_article_470.pdf to the merger.\n",
            "Added downloaded_articles/downloaded_article_246.pdf to the merger.\n",
            "Added downloaded_articles/downloaded_article_555.pdf to the merger.\n",
            "Added downloaded_articles/downloaded_article_127.pdf to the merger.\n",
            "Added downloaded_articles/downloaded_article_381.pdf to the merger.\n",
            "Added downloaded_articles/downloaded_article_424.pdf to the merger.\n",
            "Added downloaded_articles/downloaded_article_440.pdf to the merger.\n",
            "Added downloaded_articles/downloaded_article_274.pdf to the merger.\n",
            "Added downloaded_articles/downloaded_article_554.pdf to the merger.\n",
            "Added downloaded_articles/downloaded_article_473.pdf to the merger.\n",
            "Added downloaded_articles/downloaded_article_184.pdf to the merger.\n",
            "Added downloaded_articles/downloaded_article_350.pdf to the merger.\n",
            "Added downloaded_articles/downloaded_article_446.pdf to the merger.\n",
            "Added downloaded_articles/downloaded_article_88.pdf to the merger.\n",
            "Added downloaded_articles/downloaded_article_478.pdf to the merger.\n",
            "Added downloaded_articles/downloaded_article_488.pdf to the merger.\n",
            "Added downloaded_articles/downloaded_article_103.pdf to the merger.\n",
            "Added downloaded_articles/downloaded_article_485.pdf to the merger.\n",
            "Added downloaded_articles/downloaded_article_345.pdf to the merger.\n",
            "Added downloaded_articles/downloaded_article_558.pdf to the merger.\n",
            "Added downloaded_articles/downloaded_article_154.pdf to the merger.\n",
            "Added downloaded_articles/downloaded_article_447.pdf to the merger.\n",
            "Added downloaded_articles/downloaded_article_469.pdf to the merger.\n",
            "Added downloaded_articles/downloaded_article_504.pdf to the merger.\n",
            "Added downloaded_articles/downloaded_article_177.pdf to the merger.\n",
            "Added downloaded_articles/downloaded_article_297.pdf to the merger.\n",
            "Added downloaded_articles/downloaded_article_267.pdf to the merger.\n",
            "Added downloaded_articles/downloaded_article_308.pdf to the merger.\n",
            "Added downloaded_articles/downloaded_article_557.pdf to the merger.\n",
            "Added downloaded_articles/downloaded_article_380.pdf to the merger.\n",
            "Added downloaded_articles/downloaded_article_486.pdf to the merger.\n",
            "Added downloaded_articles/downloaded_article_214.pdf to the merger.\n",
            "Added downloaded_articles/downloaded_article_428.pdf to the merger.\n",
            "Added downloaded_articles/downloaded_article_476.pdf to the merger.\n",
            "Added downloaded_articles/downloaded_article_332.pdf to the merger.\n",
            "Added downloaded_articles/downloaded_article_41.pdf to the merger.\n",
            "Added downloaded_articles/downloaded_article_134.pdf to the merger.\n",
            "Added downloaded_articles/downloaded_article_14.pdf to the merger.\n",
            "Added downloaded_articles/downloaded_article_313.pdf to the merger.\n",
            "Added downloaded_articles/downloaded_article_383.pdf to the merger.\n",
            "Added downloaded_articles/downloaded_article_495.pdf to the merger.\n",
            "Added downloaded_articles/downloaded_article_471.pdf to the merger.\n",
            "Added downloaded_articles/downloaded_article_540.pdf to the merger.\n",
            "Added downloaded_articles/downloaded_article_111.pdf to the merger.\n",
            "Added downloaded_articles/downloaded_article_35.pdf to the merger.\n",
            "Added downloaded_articles/downloaded_article_240.pdf to the merger.\n",
            "Added downloaded_articles/downloaded_article_1.pdf to the merger.\n",
            "Added downloaded_articles/downloaded_article_304.pdf to the merger.\n",
            "Added downloaded_articles/downloaded_article_125.pdf to the merger.\n",
            "Added downloaded_articles/downloaded_article_564.pdf to the merger.\n",
            "Added downloaded_articles/downloaded_article_165.pdf to the merger.\n",
            "Added downloaded_articles/downloaded_article_258.pdf to the merger.\n",
            "Added downloaded_articles/downloaded_article_237.pdf to the merger.\n",
            "Added downloaded_articles/downloaded_article_336.pdf to the merger.\n",
            "Added downloaded_articles/downloaded_article_492.pdf to the merger.\n",
            "Added downloaded_articles/downloaded_article_435.pdf to the merger.\n",
            "Added downloaded_articles/downloaded_article_122.pdf to the merger.\n",
            "Added downloaded_articles/downloaded_article_12.pdf to the merger.\n",
            "Added downloaded_articles/downloaded_article_384.pdf to the merger.\n",
            "Added downloaded_articles/downloaded_article_556.pdf to the merger.\n",
            "Added downloaded_articles/downloaded_article_270.pdf to the merger.\n",
            "Added downloaded_articles/downloaded_article_321.pdf to the merger.\n",
            "Added downloaded_articles/downloaded_article_352.pdf to the merger.\n",
            "Added downloaded_articles/downloaded_article_427.pdf to the merger.\n",
            "Added downloaded_articles/downloaded_article_163.pdf to the merger.\n",
            "Added downloaded_articles/downloaded_article_491.pdf to the merger.\n",
            "Added downloaded_articles/downloaded_article_290.pdf to the merger.\n",
            "Added downloaded_articles/downloaded_article_142.pdf to the merger.\n",
            "Added downloaded_articles/downloaded_article_517.pdf to the merger.\n",
            "Added downloaded_articles/downloaded_article_369.pdf to the merger.\n",
            "Added downloaded_articles/downloaded_article_309.pdf to the merger.\n",
            "Added downloaded_articles/downloaded_article_196.pdf to the merger.\n",
            "Added downloaded_articles/downloaded_article_198.pdf to the merger.\n",
            "Added downloaded_articles/downloaded_article_99.pdf to the merger.\n",
            "Added downloaded_articles/downloaded_article_201.pdf to the merger.\n",
            "Added downloaded_articles/downloaded_article_475.pdf to the merger.\n",
            "Added downloaded_articles/downloaded_article_514.pdf to the merger.\n",
            "Added downloaded_articles/downloaded_article_356.pdf to the merger.\n",
            "Added downloaded_articles/downloaded_article_51.pdf to the merger.\n",
            "Added downloaded_articles/downloaded_article_539.pdf to the merger.\n",
            "Added downloaded_articles/downloaded_article_54.pdf to the merger.\n",
            "Added downloaded_articles/downloaded_article_203.pdf to the merger.\n",
            "Added downloaded_articles/downloaded_article_526.pdf to the merger.\n",
            "Added downloaded_articles/downloaded_article_300.pdf to the merger.\n",
            "Added downloaded_articles/downloaded_article_293.pdf to the merger.\n",
            "Added downloaded_articles/downloaded_article_335.pdf to the merger.\n",
            "Added downloaded_articles/downloaded_article_220.pdf to the merger.\n",
            "Added downloaded_articles/downloaded_article_543.pdf to the merger.\n",
            "Added downloaded_articles/downloaded_article_60.pdf to the merger.\n",
            "Added downloaded_articles/downloaded_article_474.pdf to the merger.\n",
            "Added downloaded_articles/downloaded_article_354.pdf to the merger.\n",
            "Added downloaded_articles/downloaded_article_516.pdf to the merger.\n",
            "Added downloaded_articles/downloaded_article_429.pdf to the merger.\n",
            "Added downloaded_articles/downloaded_article_55.pdf to the merger.\n",
            "Added downloaded_articles/downloaded_article_19.pdf to the merger.\n",
            "Added downloaded_articles/downloaded_article_136.pdf to the merger.\n",
            "Added downloaded_articles/downloaded_article_97.pdf to the merger.\n",
            "Added downloaded_articles/downloaded_article_324.pdf to the merger.\n",
            "Added downloaded_articles/downloaded_article_398.pdf to the merger.\n",
            "Added downloaded_articles/downloaded_article_102.pdf to the merger.\n",
            "Added downloaded_articles/downloaded_article_183.pdf to the merger.\n",
            "Added downloaded_articles/downloaded_article_358.pdf to the merger.\n",
            "Added downloaded_articles/downloaded_article_159.pdf to the merger.\n",
            "Added downloaded_articles/downloaded_article_388.pdf to the merger.\n",
            "Added downloaded_articles/downloaded_article_462.pdf to the merger.\n",
            "Added downloaded_articles/downloaded_article_262.pdf to the merger.\n",
            "Added downloaded_articles/downloaded_article_113.pdf to the merger.\n",
            "Added downloaded_articles/downloaded_article_560.pdf to the merger.\n",
            "Added downloaded_articles/downloaded_article_420.pdf to the merger.\n",
            "Added downloaded_articles/downloaded_article_249.pdf to the merger.\n",
            "Added downloaded_articles/downloaded_article_230.pdf to the merger.\n",
            "Added downloaded_articles/downloaded_article_513.pdf to the merger.\n",
            "Added downloaded_articles/downloaded_article_71.pdf to the merger.\n",
            "Added downloaded_articles/downloaded_article_95.pdf to the merger.\n",
            "Added downloaded_articles/downloaded_article_561.pdf to the merger.\n",
            "Added downloaded_articles/downloaded_article_535.pdf to the merger.\n",
            "Added downloaded_articles/downloaded_article_276.pdf to the merger.\n",
            "Added downloaded_articles/downloaded_article_347.pdf to the merger.\n",
            "Added downloaded_articles/downloaded_article_180.pdf to the merger.\n",
            "Added downloaded_articles/downloaded_article_311.pdf to the merger.\n",
            "Added downloaded_articles/downloaded_article_445.pdf to the merger.\n",
            "Added downloaded_articles/downloaded_article_173.pdf to the merger.\n",
            "Added downloaded_articles/downloaded_article_72.pdf to the merger.\n",
            "Added downloaded_articles/downloaded_article_348.pdf to the merger.\n",
            "Added downloaded_articles/downloaded_article_437.pdf to the merger.\n",
            "Added downloaded_articles/downloaded_article_245.pdf to the merger.\n",
            "Added downloaded_articles/downloaded_article_507.pdf to the merger.\n",
            "Added downloaded_articles/downloaded_article_33.pdf to the merger.\n",
            "Added downloaded_articles/downloaded_article_303.pdf to the merger.\n",
            "Added downloaded_articles/downloaded_article_129.pdf to the merger.\n",
            "Added downloaded_articles/downloaded_article_431.pdf to the merger.\n",
            "Added downloaded_articles/downloaded_article_302.pdf to the merger.\n",
            "Added downloaded_articles/downloaded_article_294.pdf to the merger.\n",
            "Added downloaded_articles/downloaded_article_551.pdf to the merger.\n",
            "Added downloaded_articles/downloaded_article_175.pdf to the merger.\n",
            "Added downloaded_articles/downloaded_article_152.pdf to the merger.\n",
            "Added downloaded_articles/downloaded_article_415.pdf to the merger.\n",
            "Added downloaded_articles/downloaded_article_143.pdf to the merger.\n",
            "Added downloaded_articles/downloaded_article_532.pdf to the merger.\n",
            "Added downloaded_articles/downloaded_article_204.pdf to the merger.\n",
            "Added downloaded_articles/downloaded_article_20.pdf to the merger.\n",
            "Added downloaded_articles/downloaded_article_541.pdf to the merger.\n",
            "Added downloaded_articles/downloaded_article_2.pdf to the merger.\n",
            "Added downloaded_articles/downloaded_article_205.pdf to the merger.\n",
            "Added downloaded_articles/downloaded_article_156.pdf to the merger.\n",
            "Added downloaded_articles/downloaded_article_378.pdf to the merger.\n",
            "Added downloaded_articles/downloaded_article_382.pdf to the merger.\n",
            "Added downloaded_articles/downloaded_article_38.pdf to the merger.\n",
            "Added downloaded_articles/downloaded_article_325.pdf to the merger.\n",
            "Added downloaded_articles/downloaded_article_238.pdf to the merger.\n",
            "Added downloaded_articles/downloaded_article_217.pdf to the merger.\n",
            "Added downloaded_articles/downloaded_article_46.pdf to the merger.\n",
            "Added downloaded_articles/downloaded_article_80.pdf to the merger.\n",
            "Added downloaded_articles/downloaded_article_172.pdf to the merger.\n",
            "Added downloaded_articles/downloaded_article_78.pdf to the merger.\n",
            "Added downloaded_articles/downloaded_article_418.pdf to the merger.\n",
            "Added downloaded_articles/downloaded_article_386.pdf to the merger.\n",
            "Added downloaded_articles/downloaded_article_508.pdf to the merger.\n",
            "Added downloaded_articles/downloaded_article_106.pdf to the merger.\n",
            "Added downloaded_articles/downloaded_article_5.pdf to the merger.\n",
            "Added downloaded_articles/downloaded_article_224.pdf to the merger.\n",
            "Added downloaded_articles/downloaded_article_468.pdf to the merger.\n",
            "Added downloaded_articles/downloaded_article_228.pdf to the merger.\n",
            "Added downloaded_articles/downloaded_article_419.pdf to the merger.\n",
            "Added downloaded_articles/downloaded_article_39.pdf to the merger.\n",
            "Added downloaded_articles/downloaded_article_452.pdf to the merger.\n",
            "Added downloaded_articles/downloaded_article_207.pdf to the merger.\n",
            "Added downloaded_articles/downloaded_article_544.pdf to the merger.\n",
            "Added downloaded_articles/downloaded_article_13.pdf to the merger.\n",
            "Added downloaded_articles/downloaded_article_409.pdf to the merger.\n",
            "Added downloaded_articles/downloaded_article_146.pdf to the merger.\n",
            "Added downloaded_articles/downloaded_article_259.pdf to the merger.\n",
            "Added downloaded_articles/downloaded_article_523.pdf to the merger.\n",
            "Added downloaded_articles/downloaded_article_147.pdf to the merger.\n",
            "Added downloaded_articles/downloaded_article_222.pdf to the merger.\n",
            "Added downloaded_articles/downloaded_article_141.pdf to the merger.\n",
            "Added downloaded_articles/downloaded_article_521.pdf to the merger.\n",
            "Added downloaded_articles/downloaded_article_53.pdf to the merger.\n",
            "Added downloaded_articles/downloaded_article_221.pdf to the merger.\n",
            "Added downloaded_articles/downloaded_article_73.pdf to the merger.\n",
            "Added downloaded_articles/downloaded_article_18.pdf to the merger.\n",
            "Added downloaded_articles/downloaded_article_115.pdf to the merger.\n",
            "Added downloaded_articles/downloaded_article_92.pdf to the merger.\n",
            "Added downloaded_articles/downloaded_article_250.pdf to the merger.\n",
            "Added downloaded_articles/downloaded_article_22.pdf to the merger.\n",
            "Added downloaded_articles/downloaded_article_120.pdf to the merger.\n",
            "Added downloaded_articles/downloaded_article_487.pdf to the merger.\n",
            "Added downloaded_articles/downloaded_article_454.pdf to the merger.\n",
            "Added downloaded_articles/downloaded_article_170.pdf to the merger.\n",
            "Added downloaded_articles/downloaded_article_24.pdf to the merger.\n",
            "Added downloaded_articles/downloaded_article_511.pdf to the merger.\n",
            "Added downloaded_articles/downloaded_article_28.pdf to the merger.\n",
            "Added downloaded_articles/downloaded_article_467.pdf to the merger.\n",
            "Added downloaded_articles/downloaded_article_534.pdf to the merger.\n",
            "Added downloaded_articles/downloaded_article_145.pdf to the merger.\n",
            "Added downloaded_articles/downloaded_article_40.pdf to the merger.\n",
            "Added downloaded_articles/downloaded_article_291.pdf to the merger.\n",
            "Added downloaded_articles/downloaded_article_426.pdf to the merger.\n",
            "Added downloaded_articles/downloaded_article_251.pdf to the merger.\n",
            "Added downloaded_articles/downloaded_article_279.pdf to the merger.\n",
            "Added downloaded_articles/downloaded_article_411.pdf to the merger.\n",
            "Added downloaded_articles/downloaded_article_329.pdf to the merger.\n",
            "Added downloaded_articles/downloaded_article_213.pdf to the merger.\n",
            "Added downloaded_articles/downloaded_article_167.pdf to the merger.\n",
            "Added downloaded_articles/downloaded_article_307.pdf to the merger.\n",
            "Added downloaded_articles/downloaded_article_538.pdf to the merger.\n",
            "Added downloaded_articles/downloaded_article_464.pdf to the merger.\n",
            "Added downloaded_articles/downloaded_article_94.pdf to the merger.\n",
            "Added downloaded_articles/downloaded_article_149.pdf to the merger.\n",
            "Added downloaded_articles/downloaded_article_157.pdf to the merger.\n",
            "Added downloaded_articles/downloaded_article_500.pdf to the merger.\n",
            "Added downloaded_articles/downloaded_article_546.pdf to the merger.\n",
            "Added downloaded_articles/downloaded_article_266.pdf to the merger.\n",
            "Added downloaded_articles/downloaded_article_370.pdf to the merger.\n",
            "Added downloaded_articles/downloaded_article_443.pdf to the merger.\n",
            "Added downloaded_articles/downloaded_article_70.pdf to the merger.\n",
            "Added downloaded_articles/downloaded_article_234.pdf to the merger.\n",
            "Added downloaded_articles/downloaded_article_263.pdf to the merger.\n",
            "Added downloaded_articles/downloaded_article_484.pdf to the merger.\n",
            "Added downloaded_articles/downloaded_article_349.pdf to the merger.\n",
            "Added downloaded_articles/downloaded_article_392.pdf to the merger.\n",
            "Added downloaded_articles/downloaded_article_23.pdf to the merger.\n",
            "Added downloaded_articles/downloaded_article_29.pdf to the merger.\n",
            "Added downloaded_articles/downloaded_article_342.pdf to the merger.\n",
            "Added downloaded_articles/downloaded_article_133.pdf to the merger.\n",
            "Added downloaded_articles/downloaded_article_77.pdf to the merger.\n",
            "Added downloaded_articles/downloaded_article_365.pdf to the merger.\n",
            "Added downloaded_articles/downloaded_article_510.pdf to the merger.\n",
            "Added downloaded_articles/downloaded_article_282.pdf to the merger.\n",
            "Added downloaded_articles/downloaded_article_466.pdf to the merger.\n",
            "Added downloaded_articles/downloaded_article_278.pdf to the merger.\n",
            "Added downloaded_articles/downloaded_article_126.pdf to the merger.\n",
            "Added downloaded_articles/downloaded_article_164.pdf to the merger.\n",
            "Added downloaded_articles/downloaded_article_197.pdf to the merger.\n",
            "Added downloaded_articles/downloaded_article_387.pdf to the merger.\n",
            "Added downloaded_articles/downloaded_article_171.pdf to the merger.\n",
            "Added downloaded_articles/downloaded_article_3.pdf to the merger.\n",
            "Added downloaded_articles/downloaded_article_233.pdf to the merger.\n",
            "Added downloaded_articles/downloaded_article_503.pdf to the merger.\n",
            "Added downloaded_articles/downloaded_article_247.pdf to the merger.\n",
            "Added downloaded_articles/downloaded_article_423.pdf to the merger.\n",
            "Added downloaded_articles/downloaded_article_229.pdf to the merger.\n",
            "Added downloaded_articles/downloaded_article_314.pdf to the merger.\n",
            "Added downloaded_articles/downloaded_article_548.pdf to the merger.\n",
            "Added downloaded_articles/downloaded_article_505.pdf to the merger.\n",
            "Added downloaded_articles/downloaded_article_189.pdf to the merger.\n",
            "Added downloaded_articles/downloaded_article_153.pdf to the merger.\n",
            "Added downloaded_articles/downloaded_article_306.pdf to the merger.\n",
            "Added downloaded_articles/downloaded_article_118.pdf to the merger.\n",
            "Added downloaded_articles/downloaded_article_174.pdf to the merger.\n",
            "Added downloaded_articles/downloaded_article_296.pdf to the merger.\n",
            "Added downloaded_articles/downloaded_article_550.pdf to the merger.\n",
            "Added downloaded_articles/downloaded_article_374.pdf to the merger.\n",
            "Added downloaded_articles/downloaded_article_62.pdf to the merger.\n",
            "Added downloaded_articles/downloaded_article_501.pdf to the merger.\n",
            "Added downloaded_articles/downloaded_article_375.pdf to the merger.\n",
            "Added downloaded_articles/downloaded_article_42.pdf to the merger.\n",
            "Added downloaded_articles/downloaded_article_456.pdf to the merger.\n",
            "Added downloaded_articles/downloaded_article_254.pdf to the merger.\n",
            "Added downloaded_articles/downloaded_article_32.pdf to the merger.\n",
            "Added downloaded_articles/downloaded_article_422.pdf to the merger.\n",
            "Added downloaded_articles/downloaded_article_272.pdf to the merger.\n",
            "Added downloaded_articles/downloaded_article_519.pdf to the merger.\n",
            "Added downloaded_articles/downloaded_article_261.pdf to the merger.\n",
            "Added downloaded_articles/downloaded_article_179.pdf to the merger.\n",
            "Added downloaded_articles/downloaded_article_187.pdf to the merger.\n",
            "Added downloaded_articles/downloaded_article_27.pdf to the merger.\n",
            "Added downloaded_articles/downloaded_article_264.pdf to the merger.\n",
            "Added downloaded_articles/downloaded_article_461.pdf to the merger.\n",
            "Added downloaded_articles/downloaded_article_76.pdf to the merger.\n",
            "Added downloaded_articles/downloaded_article_515.pdf to the merger.\n",
            "Added downloaded_articles/downloaded_article_506.pdf to the merger.\n",
            "Added downloaded_articles/downloaded_article_376.pdf to the merger.\n",
            "Added downloaded_articles/downloaded_article_260.pdf to the merger.\n",
            "Added downloaded_articles/downloaded_article_416.pdf to the merger.\n",
            "Added downloaded_articles/downloaded_article_417.pdf to the merger.\n",
            "Added downloaded_articles/downloaded_article_457.pdf to the merger.\n",
            "Added downloaded_articles/downloaded_article_346.pdf to the merger.\n",
            "Added downloaded_articles/downloaded_article_216.pdf to the merger.\n",
            "Added downloaded_articles/downloaded_article_359.pdf to the merger.\n",
            "Added downloaded_articles/downloaded_article_527.pdf to the merger.\n",
            "Added downloaded_articles/downloaded_article_396.pdf to the merger.\n",
            "Added downloaded_articles/downloaded_article_406.pdf to the merger.\n",
            "Added downloaded_articles/downloaded_article_490.pdf to the merger.\n",
            "Added downloaded_articles/downloaded_article_273.pdf to the merger.\n",
            "Added downloaded_articles/downloaded_article_65.pdf to the merger.\n",
            "Added downloaded_articles/downloaded_article_132.pdf to the merger.\n",
            "Added downloaded_articles/downloaded_article_231.pdf to the merger.\n",
            "Added downloaded_articles/downloaded_article_215.pdf to the merger.\n",
            "Added downloaded_articles/downloaded_article_239.pdf to the merger.\n",
            "Added downloaded_articles/downloaded_article_128.pdf to the merger.\n",
            "Added downloaded_articles/downloaded_article_34.pdf to the merger.\n",
            "Added downloaded_articles/downloaded_article_123.pdf to the merger.\n",
            "Added downloaded_articles/downloaded_article_155.pdf to the merger.\n",
            "Added downloaded_articles/downloaded_article_4.pdf to the merger.\n",
            "Added downloaded_articles/downloaded_article_287.pdf to the merger.\n",
            "Added downloaded_articles/downloaded_article_393.pdf to the merger.\n",
            "Added downloaded_articles/downloaded_article_151.pdf to the merger.\n",
            "Added downloaded_articles/downloaded_article_405.pdf to the merger.\n",
            "Added downloaded_articles/downloaded_article_317.pdf to the merger.\n",
            "Added downloaded_articles/downloaded_article_498.pdf to the merger.\n",
            "Added downloaded_articles/downloaded_article_43.pdf to the merger.\n",
            "Added downloaded_articles/downloaded_article_93.pdf to the merger.\n",
            "Added downloaded_articles/downloaded_article_489.pdf to the merger.\n",
            "Added downloaded_articles/downloaded_article_257.pdf to the merger.\n",
            "Added downloaded_articles/downloaded_article_357.pdf to the merger.\n",
            "Added downloaded_articles/downloaded_article_109.pdf to the merger.\n",
            "Added downloaded_articles/downloaded_article_114.pdf to the merger.\n",
            "Added downloaded_articles/downloaded_article_284.pdf to the merger.\n",
            "Added downloaded_articles/downloaded_article_31.pdf to the merger.\n",
            "Added downloaded_articles/downloaded_article_182.pdf to the merger.\n",
            "Added downloaded_articles/downloaded_article_75.pdf to the merger.\n",
            "Added downloaded_articles/downloaded_article_235.pdf to the merger.\n",
            "Added downloaded_articles/downloaded_article_110.pdf to the merger.\n",
            "Added downloaded_articles/downloaded_article_402.pdf to the merger.\n",
            "Added downloaded_articles/downloaded_article_448.pdf to the merger.\n",
            "Added downloaded_articles/downloaded_article_208.pdf to the merger.\n",
            "Added downloaded_articles/downloaded_article_339.pdf to the merger.\n",
            "Added downloaded_articles/downloaded_article_361.pdf to the merger.\n",
            "Added downloaded_articles/downloaded_article_364.pdf to the merger.\n",
            "Added downloaded_articles/downloaded_article_236.pdf to the merger.\n",
            "Added downloaded_articles/downloaded_article_160.pdf to the merger.\n",
            "Added downloaded_articles/downloaded_article_298.pdf to the merger.\n",
            "Added downloaded_articles/downloaded_article_285.pdf to the merger.\n",
            "Added downloaded_articles/downloaded_article_460.pdf to the merger.\n",
            "Added downloaded_articles/downloaded_article_326.pdf to the merger.\n",
            "Added downloaded_articles/downloaded_article_559.pdf to the merger.\n",
            "Added downloaded_articles/downloaded_article_206.pdf to the merger.\n",
            "Added downloaded_articles/downloaded_article_327.pdf to the merger.\n",
            "Added downloaded_articles/downloaded_article_512.pdf to the merger.\n",
            "Added downloaded_articles/downloaded_article_100.pdf to the merger.\n",
            "Added downloaded_articles/downloaded_article_44.pdf to the merger.\n",
            "Added downloaded_articles/downloaded_article_379.pdf to the merger.\n",
            "Added downloaded_articles/downloaded_article_553.pdf to the merger.\n",
            "Added downloaded_articles/downloaded_article_465.pdf to the merger.\n",
            "Added downloaded_articles/downloaded_article_86.pdf to the merger.\n",
            "Added downloaded_articles/downloaded_article_210.pdf to the merger.\n",
            "Added downloaded_articles/downloaded_article_140.pdf to the merger.\n",
            "Added downloaded_articles/downloaded_article_518.pdf to the merger.\n",
            "Added downloaded_articles/downloaded_article_50.pdf to the merger.\n",
            "Added downloaded_articles/downloaded_article_496.pdf to the merger.\n",
            "Added downloaded_articles/downloaded_article_30.pdf to the merger.\n",
            "Added downloaded_articles/downloaded_article_459.pdf to the merger.\n",
            "Added downloaded_articles/downloaded_article_185.pdf to the merger.\n",
            "Added downloaded_articles/downloaded_article_400.pdf to the merger.\n",
            "Added downloaded_articles/downloaded_article_181.pdf to the merger.\n",
            "Added downloaded_articles/downloaded_article_131.pdf to the merger.\n",
            "Added downloaded_articles/downloaded_article_337.pdf to the merger.\n",
            "Added downloaded_articles/downloaded_article_453.pdf to the merger.\n",
            "Added downloaded_articles/downloaded_article_316.pdf to the merger.\n",
            "Added downloaded_articles/downloaded_article_450.pdf to the merger.\n",
            "Added downloaded_articles/downloaded_article_16.pdf to the merger.\n",
            "Added downloaded_articles/downloaded_article_168.pdf to the merger.\n",
            "Added downloaded_articles/downloaded_article_61.pdf to the merger.\n",
            "Added downloaded_articles/downloaded_article_436.pdf to the merger.\n",
            "Added downloaded_articles/downloaded_article_355.pdf to the merger.\n",
            "Added downloaded_articles/downloaded_article_144.pdf to the merger.\n",
            "Added downloaded_articles/downloaded_article_439.pdf to the merger.\n",
            "Added downloaded_articles/downloaded_article_547.pdf to the merger.\n",
            "Added downloaded_articles/downloaded_article_351.pdf to the merger.\n",
            "Added downloaded_articles/downloaded_article_520.pdf to the merger.\n",
            "Added downloaded_articles/downloaded_article_463.pdf to the merger.\n",
            "Added downloaded_articles/downloaded_article_289.pdf to the merger.\n",
            "Added downloaded_articles/downloaded_article_413.pdf to the merger.\n",
            "Added downloaded_articles/downloaded_article_169.pdf to the merger.\n",
            "Added downloaded_articles/downloaded_article_66.pdf to the merger.\n",
            "Added downloaded_articles/downloaded_article_186.pdf to the merger.\n",
            "Added downloaded_articles/downloaded_article_178.pdf to the merger.\n",
            "Added downloaded_articles/downloaded_article_104.pdf to the merger.\n",
            "Added downloaded_articles/downloaded_article_323.pdf to the merger.\n",
            "Added downloaded_articles/downloaded_article_17.pdf to the merger.\n",
            "Added downloaded_articles/downloaded_article_275.pdf to the merger.\n",
            "Added downloaded_articles/downloaded_article_117.pdf to the merger.\n",
            "Added downloaded_articles/downloaded_article_449.pdf to the merger.\n",
            "Added downloaded_articles/downloaded_article_481.pdf to the merger.\n",
            "Added downloaded_articles/downloaded_article_124.pdf to the merger.\n",
            "Added downloaded_articles/downloaded_article_425.pdf to the merger.\n",
            "Added downloaded_articles/downloaded_article_166.pdf to the merger.\n",
            "Added downloaded_articles/downloaded_article_176.pdf to the merger.\n",
            "Added downloaded_articles/downloaded_article_320.pdf to the merger.\n",
            "Added downloaded_articles/downloaded_article_45.pdf to the merger.\n",
            "Added downloaded_articles/downloaded_article_36.pdf to the merger.\n",
            "Added downloaded_articles/downloaded_article_295.pdf to the merger.\n",
            "Added downloaded_articles/downloaded_article_497.pdf to the merger.\n",
            "Added downloaded_articles/downloaded_article_366.pdf to the merger.\n",
            "Added downloaded_articles/downloaded_article_158.pdf to the merger.\n",
            "Added downloaded_articles/downloaded_article_524.pdf to the merger.\n",
            "Added downloaded_articles/downloaded_article_89.pdf to the merger.\n",
            "Added downloaded_articles/downloaded_article_85.pdf to the merger.\n",
            "Added downloaded_articles/downloaded_article_408.pdf to the merger.\n",
            "Added downloaded_articles/downloaded_article_190.pdf to the merger.\n",
            "Added downloaded_articles/downloaded_article_344.pdf to the merger.\n",
            "Added downloaded_articles/downloaded_article_269.pdf to the merger.\n",
            "Added downloaded_articles/downloaded_article_223.pdf to the merger.\n",
            "Added downloaded_articles/downloaded_article_0.pdf to the merger.\n",
            "Added downloaded_articles/downloaded_article_441.pdf to the merger.\n",
            "Added downloaded_articles/downloaded_article_91.pdf to the merger.\n",
            "Added downloaded_articles/downloaded_article_319.pdf to the merger.\n",
            "Added downloaded_articles/downloaded_article_395.pdf to the merger.\n",
            "Added downloaded_articles/downloaded_article_394.pdf to the merger.\n",
            "Added downloaded_articles/downloaded_article_255.pdf to the merger.\n",
            "Added downloaded_articles/downloaded_article_542.pdf to the merger.\n",
            "Added downloaded_articles/downloaded_article_139.pdf to the merger.\n",
            "Added downloaded_articles/downloaded_article_509.pdf to the merger.\n",
            "Added downloaded_articles/downloaded_article_265.pdf to the merger.\n",
            "Added downloaded_articles/downloaded_article_135.pdf to the merger.\n",
            "Added downloaded_articles/downloaded_article_96.pdf to the merger.\n",
            "Added downloaded_articles/downloaded_article_288.pdf to the merger.\n",
            "Added downloaded_articles/downloaded_article_530.pdf to the merger.\n",
            "Added downloaded_articles/downloaded_article_414.pdf to the merger.\n",
            "Added downloaded_articles/downloaded_article_286.pdf to the merger.\n",
            "Added downloaded_articles/downloaded_article_107.pdf to the merger.\n",
            "Added downloaded_articles/downloaded_article_15.pdf to the merger.\n",
            "Added downloaded_articles/downloaded_article_522.pdf to the merger.\n",
            "Added downloaded_articles/downloaded_article_193.pdf to the merger.\n",
            "Added downloaded_articles/downloaded_article_7.pdf to the merger.\n",
            "Added downloaded_articles/downloaded_article_315.pdf to the merger.\n",
            "Added downloaded_articles/downloaded_article_401.pdf to the merger.\n",
            "Added downloaded_articles/downloaded_article_340.pdf to the merger.\n",
            "Added downloaded_articles/downloaded_article_194.pdf to the merger.\n",
            "Added downloaded_articles/downloaded_article_68.pdf to the merger.\n",
            "Added downloaded_articles/downloaded_article_367.pdf to the merger.\n",
            "Added downloaded_articles/downloaded_article_389.pdf to the merger.\n",
            "Added downloaded_articles/downloaded_article_10.pdf to the merger.\n",
            "Added downloaded_articles/downloaded_article_119.pdf to the merger.\n",
            "Added downloaded_articles/downloaded_article_191.pdf to the merger.\n",
            "Added downloaded_articles/downloaded_article_438.pdf to the merger.\n",
            "Added downloaded_articles/downloaded_article_531.pdf to the merger.\n",
            "Added downloaded_articles/downloaded_article_525.pdf to the merger.\n",
            "Added downloaded_articles/downloaded_article_162.pdf to the merger.\n",
            "Added downloaded_articles/downloaded_article_280.pdf to the merger.\n",
            "Added downloaded_articles/downloaded_article_391.pdf to the merger.\n",
            "Added downloaded_articles/downloaded_article_434.pdf to the merger.\n",
            "Added downloaded_articles/downloaded_article_268.pdf to the merger.\n",
            "Added downloaded_articles/downloaded_article_57.pdf to the merger.\n",
            "Added downloaded_articles/downloaded_article_536.pdf to the merger.\n",
            "Added downloaded_articles/downloaded_article_219.pdf to the merger.\n",
            "Added downloaded_articles/downloaded_article_138.pdf to the merger.\n",
            "Added downloaded_articles/downloaded_article_499.pdf to the merger.\n",
            "Added downloaded_articles/downloaded_article_458.pdf to the merger.\n",
            "Added downloaded_articles/downloaded_article_430.pdf to the merger.\n",
            "Added downloaded_articles/downloaded_article_563.pdf to the merger.\n",
            "Added downloaded_articles/downloaded_article_385.pdf to the merger.\n",
            "Added downloaded_articles/downloaded_article_412.pdf to the merger.\n",
            "Added downloaded_articles/downloaded_article_310.pdf to the merger.\n",
            "Added downloaded_articles/downloaded_article_26.pdf to the merger.\n",
            "Added downloaded_articles/downloaded_article_399.pdf to the merger.\n",
            "Added downloaded_articles/downloaded_article_225.pdf to the merger.\n",
            "Added downloaded_articles/downloaded_article_21.pdf to the merger.\n",
            "Added downloaded_articles/downloaded_article_529.pdf to the merger.\n",
            "Added downloaded_articles/downloaded_article_192.pdf to the merger.\n",
            "Added downloaded_articles/downloaded_article_130.pdf to the merger.\n",
            "Added downloaded_articles/downloaded_article_318.pdf to the merger.\n",
            "Added downloaded_articles/downloaded_article_353.pdf to the merger.\n",
            "Added downloaded_articles/downloaded_article_56.pdf to the merger.\n",
            "Added downloaded_articles/downloaded_article_52.pdf to the merger.\n",
            "Added downloaded_articles/downloaded_article_67.pdf to the merger.\n",
            "Added downloaded_articles/downloaded_article_137.pdf to the merger.\n",
            "Added downloaded_articles/downloaded_article_455.pdf to the merger.\n",
            "Added downloaded_articles/downloaded_article_242.pdf to the merger.\n",
            "Added downloaded_articles/downloaded_article_545.pdf to the merger.\n",
            "Added downloaded_articles/downloaded_article_116.pdf to the merger.\n",
            "Added downloaded_articles/downloaded_article_105.pdf to the merger.\n",
            "Added downloaded_articles/downloaded_article_74.pdf to the merger.\n",
            "Added downloaded_articles/downloaded_article_47.pdf to the merger.\n",
            "Added downloaded_articles/downloaded_article_211.pdf to the merger.\n",
            "Added downloaded_articles/downloaded_article_11.pdf to the merger.\n",
            "Added downloaded_articles/downloaded_article_403.pdf to the merger.\n",
            "Added downloaded_articles/downloaded_article_101.pdf to the merger.\n",
            "Added downloaded_articles/downloaded_article_537.pdf to the merger.\n",
            "Added downloaded_articles/downloaded_article_444.pdf to the merger.\n",
            "Added downloaded_articles/downloaded_article_328.pdf to the merger.\n",
            "Added downloaded_articles/downloaded_article_48.pdf to the merger.\n",
            "Added downloaded_articles/downloaded_article_253.pdf to the merger.\n",
            "Added downloaded_articles/downloaded_article_84.pdf to the merger.\n",
            "Added downloaded_articles/downloaded_article_368.pdf to the merger.\n",
            "Added downloaded_articles/downloaded_article_549.pdf to the merger.\n",
            "Added downloaded_articles/downloaded_article_493.pdf to the merger.\n",
            "Added downloaded_articles/downloaded_article_533.pdf to the merger.\n",
            "Added downloaded_articles/downloaded_article_63.pdf to the merger.\n",
            "Added downloaded_articles/downloaded_article_433.pdf to the merger.\n",
            "Added downloaded_articles/downloaded_article_256.pdf to the merger.\n",
            "Added downloaded_articles/downloaded_article_212.pdf to the merger.\n",
            "Added downloaded_articles/downloaded_article_373.pdf to the merger.\n",
            "Added downloaded_articles/downloaded_article_6.pdf to the merger.\n",
            "Added downloaded_articles/downloaded_article_81.pdf to the merger.\n",
            "Added downloaded_articles/downloaded_article_83.pdf to the merger.\n",
            "Added downloaded_articles/downloaded_article_226.pdf to the merger.\n",
            "Added downloaded_articles/downloaded_article_479.pdf to the merger.\n",
            "Added downloaded_articles/downloaded_article_37.pdf to the merger.\n",
            "Added downloaded_articles/downloaded_article_87.pdf to the merger.\n",
            "Added downloaded_articles/downloaded_article_218.pdf to the merger.\n",
            "Added downloaded_articles/downloaded_article_195.pdf to the merger.\n",
            "Added downloaded_articles/downloaded_article_334.pdf to the merger.\n",
            "Added downloaded_articles/downloaded_article_150.pdf to the merger.\n",
            "Added downloaded_articles/downloaded_article_301.pdf to the merger.\n",
            "Added downloaded_articles/downloaded_article_305.pdf to the merger.\n",
            "Added downloaded_articles/downloaded_article_421.pdf to the merger.\n",
            "Added downloaded_articles/downloaded_article_410.pdf to the merger.\n",
            "Added downloaded_articles/downloaded_article_248.pdf to the merger.\n",
            "Added downloaded_articles/downloaded_article_360.pdf to the merger.\n",
            "Added downloaded_articles/downloaded_article_241.pdf to the merger.\n",
            "Added downloaded_articles/downloaded_article_442.pdf to the merger.\n",
            "Added downloaded_articles/downloaded_article_244.pdf to the merger.\n",
            "Added downloaded_articles/downloaded_article_161.pdf to the merger.\n",
            "Added downloaded_articles/IPCC_AR6_WGII_FullReport.pdf to the merger.\n",
            "Added downloaded_articles/downloaded_article_407.pdf to the merger.\n",
            "Added downloaded_articles/downloaded_article_404.pdf to the merger.\n",
            "Added downloaded_articles/downloaded_article_390.pdf to the merger.\n",
            "Added downloaded_articles/downloaded_article_312.pdf to the merger.\n",
            "Added downloaded_articles/downloaded_article_451.pdf to the merger.\n",
            "Added downloaded_articles/downloaded_article_271.pdf to the merger.\n",
            "Added downloaded_articles/downloaded_article_202.pdf to the merger.\n",
            "Added downloaded_articles/downloaded_article_98.pdf to the merger.\n",
            "Added downloaded_articles/downloaded_article_148.pdf to the merger.\n",
            "Added downloaded_articles/downloaded_article_108.pdf to the merger.\n",
            "Added downloaded_articles/downloaded_article_338.pdf to the merger.\n",
            "Added downloaded_articles/downloaded_article_121.pdf to the merger.\n",
            "Added downloaded_articles/downloaded_article_341.pdf to the merger.\n",
            "Added downloaded_articles/downloaded_article_528.pdf to the merger.\n",
            "Added downloaded_articles/downloaded_article_209.pdf to the merger.\n",
            "Added downloaded_articles/downloaded_article_90.pdf to the merger.\n",
            "Added downloaded_articles/downloaded_article_69.pdf to the merger.\n",
            "Added downloaded_articles/downloaded_article_58.pdf to the merger.\n",
            "Added downloaded_articles/downloaded_article_188.pdf to the merger.\n",
            "Added downloaded_articles/downloaded_article_281.pdf to the merger.\n",
            "Added downloaded_articles/downloaded_article_49.pdf to the merger.\n",
            "Added downloaded_articles/downloaded_article_483.pdf to the merger.\n",
            "Added downloaded_articles/downloaded_article_112.pdf to the merger.\n",
            "Added downloaded_articles/downloaded_article_562.pdf to the merger.\n",
            "Added downloaded_articles/downloaded_article_432.pdf to the merger.\n",
            "Added downloaded_articles/downloaded_article_363.pdf to the merger.\n",
            "Added downloaded_articles/downloaded_article_9.pdf to the merger.\n",
            "Added downloaded_articles/downloaded_article_82.pdf to the merger.\n",
            "Added downloaded_articles/downloaded_article_243.pdf to the merger.\n",
            "Added downloaded_articles/downloaded_article_8.pdf to the merger.\n",
            "Added downloaded_articles/downloaded_article_372.pdf to the merger.\n",
            "Added downloaded_articles/downloaded_article_232.pdf to the merger.\n",
            "Added downloaded_articles/downloaded_article_25.pdf to the merger.\n",
            "Added downloaded_articles/downloaded_article_472.pdf to the merger.\n",
            "Added downloaded_articles/downloaded_article_331.pdf to the merger.\n",
            "Added downloaded_articles/downloaded_article_333.pdf to the merger.\n"
          ]
        }
      ]
    },
    {
      "cell_type": "code",
      "source": [],
      "metadata": {
        "id": "0a6ikcG7KJS8"
      },
      "execution_count": null,
      "outputs": []
    },
    {
      "cell_type": "code",
      "source": [
        "import requests\n",
        "import re\n",
        "from bs4 import BeautifulSoup\n",
        "import os\n",
        "import time\n",
        "from pypdf import PdfReader\n",
        "from pypdf.errors import PdfReadError\n",
        "\n",
        "# URL of the search results page\n",
        "base_url = \"https://www.nature.com\"\n",
        "search_url = 'https://www.nature.com/search?q=climate+change&article_type=research&order=relevance'\n",
        "\n",
        "# Directory to save downloaded articles\n",
        "download_directory = 'downloaded_articles'\n",
        "if not os.path.exists(download_directory):\n",
        "    os.makedirs(download_directory)\n",
        "\n",
        "# Function to download a PDF from a URL\n",
        "def download_pdf(url, save_path):\n",
        "    try:\n",
        "        response = requests.get(url)\n",
        "        response.raise_for_status()  # Raise HTTPError for bad responses\n",
        "        with open(save_path, 'wb') as file:\n",
        "            file.write(response.content)\n",
        "        print(f\"Downloaded: {save_path}\")\n",
        "    except requests.exceptions.RequestException as e:\n",
        "        print(f\"Failed to download {url}: {e}\")\n",
        "\n",
        "# Function to check if a PDF URL exists\n",
        "def check_pdf_exists(pdf_url):\n",
        "    try:\n",
        "        response = requests.head(pdf_url)\n",
        "        return response.status_code == 200\n",
        "    except requests.exceptions.RequestException:\n",
        "        return False\n",
        "\n",
        "# Function to check if a PDF is valid\n",
        "def is_valid_pdf(pdf_path):\n",
        "    try:\n",
        "        reader = PdfReader(pdf_path)\n",
        "        reader.pages  # Access pages to ensure it's fully readable\n",
        "        return True\n",
        "    except PdfReadError:\n",
        "        return False\n",
        "    except Exception as e:\n",
        "        print(f\"Unexpected error with {pdf_path}: {e}\")\n",
        "        return False\n",
        "\n",
        "# Send a GET request to the search results page\n",
        "reqs = requests.get(search_url)\n",
        "soup = BeautifulSoup(reqs.text, 'html.parser')\n",
        "\n",
        "# Find all article links on the page\n",
        "article_links = []\n",
        "for link in soup.find_all('a', attrs={'href': re.compile(\"^/articles/\")}):\n",
        "    article_links.append(base_url + link.get('href'))\n",
        "\n",
        "# Download each article PDF\n",
        "for i, article_url in enumerate(article_links):\n",
        "    # Construct the PDF URL and check if it exists\n",
        "    pdf_url = article_url + \".pdf\"\n",
        "    if check_pdf_exists(pdf_url):\n",
        "        save_path = os.path.join(download_directory, f'article_{i+1}.pdf')\n",
        "        download_pdf(pdf_url, save_path)\n",
        "        if is_valid_pdf(save_path):\n",
        "            print(f\"Valid PDF: {save_path}\")\n",
        "        else:\n",
        "            print(f\"Invalid PDF, deleting: {save_path}\")\n",
        "            os.remove(save_path)\n",
        "        time.sleep(2)  # Sleep for 2 seconds between requests to be polite\n",
        "\n",
        "print(\"All free articles downloaded.\")\n",
        "\n"
      ],
      "metadata": {
        "colab": {
          "base_uri": "https://localhost:8080/"
        },
        "id": "gYB1R-zNWaXX",
        "outputId": "13e21b1d-40c0-4a9b-ca63-ec3e6173f42b"
      },
      "execution_count": null,
      "outputs": [
        {
          "output_type": "stream",
          "name": "stdout",
          "text": [
            "All free articles downloaded.\n"
          ]
        }
      ]
    },
    {
      "cell_type": "code",
      "source": [],
      "metadata": {
        "id": "ghYd38psV-t0"
      },
      "execution_count": null,
      "outputs": []
    }
  ]
}